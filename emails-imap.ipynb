{
 "cells": [
  {
   "cell_type": "code",
   "execution_count": 2,
   "metadata": {},
   "outputs": [],
   "source": [
    "import imaplib\n",
    "import email\n",
    "from datetime import datetime, timedelta, timezone\n",
    "from email.header import decode_header\n",
    "from email.utils import parsedate_to_datetime,getaddresses"
   ]
  },
  {
   "cell_type": "code",
   "execution_count": 3,
   "metadata": {},
   "outputs": [
    {
     "data": {
      "text/plain": [
       "True"
      ]
     },
     "execution_count": 3,
     "metadata": {},
     "output_type": "execute_result"
    }
   ],
   "source": [
    "from dotenv import load_dotenv\n",
    "import os\n",
    "\n",
    "load_dotenv()"
   ]
  },
  {
   "cell_type": "code",
   "execution_count": 9,
   "metadata": {},
   "outputs": [
    {
     "data": {
      "text/plain": [
       "('OK', [b'devansh.colab123@gmail.com authenticated (Success)'])"
      ]
     },
     "execution_count": 9,
     "metadata": {},
     "output_type": "execute_result"
    }
   ],
   "source": [
    "# create an IMAP4_SSL class instance\n",
    "imap = imaplib.IMAP4_SSL(\"imap.gmail.com\")\n",
    "\n",
    "# login with your Gmail account credentials\n",
    "user_email = os.environ.get(\"IMAP_EMAIL\")\n",
    "password = os.environ.get(\"IMAP_PASSWORD\")\n",
    "imap.login(user_email, password)"
   ]
  },
  {
   "cell_type": "code",
   "execution_count": 5,
   "metadata": {},
   "outputs": [
    {
     "name": "stdout",
     "output_type": "stream",
     "text": [
      "['(\\\\HasNoChildren)', '\"INBOX\"']\n",
      "['(\\\\HasChildren \\\\Noselect)', '\"[Gmail]\"']\n",
      "['(\\\\All \\\\HasNoChildren)', '\"[Gmail]/All Mail\"']\n",
      "['(\\\\Drafts \\\\HasNoChildren)', '\"[Gmail]/Drafts\"']\n",
      "['(\\\\HasNoChildren \\\\Important)', '\"[Gmail]/Important\"']\n",
      "['(\\\\HasNoChildren \\\\Sent)', '\"[Gmail]/Sent Mail\"']\n",
      "['(\\\\HasNoChildren \\\\Junk)', '\"[Gmail]/Spam\"']\n",
      "['(\\\\Flagged \\\\HasNoChildren)', '\"[Gmail]/Starred\"']\n",
      "['(\\\\HasNoChildren \\\\Trash)', '\"[Gmail]/Trash\"']\n"
     ]
    }
   ],
   "source": [
    "for i in imap.list()[1]:\n",
    "    l = i.decode().split(' \"/\" ')\n",
    "    print(l)"
   ]
  },
  {
   "cell_type": "code",
   "execution_count": 6,
   "metadata": {},
   "outputs": [],
   "source": [
    "imap.select('\"INBOX\"')\n",
    "status, messages = imap.search(None, \"UNSEEN\")\n",
    "\n",
    "# iterate over the messages and retrieve their contents\n",
    "for num in messages[0].split():\n",
    "    print(num)\n",
    "    _, msg = imap.fetch(num, \"(RFC822)\")\n",
    "    message = email.message_from_bytes(msg[0][1])\n",
    "\n",
    "    if message.is_multipart():\n",
    "        for part in message.walk():\n",
    "            if part.get_content_type() == \"text/plain\":\n",
    "                content = part.get_payload(decode=True)\n",
    "                body = content.decode(\"utf-8\")\n",
    "                break\n",
    "            else:\n",
    "                # if no text/plain part was found, use the first part as the body\n",
    "                content = message.get_payload(0).get_payload(decode=True)\n",
    "                body = content.decode(\"utf-8\")\n",
    "    else:\n",
    "        # if the message is not multipart, just use the message body\n",
    "        content = message.get_payload(decode=True)\n",
    "        body = content.decode(\"utf-8\")\n",
    "\n",
    "    # print the message details\n",
    "    subject = decode_header(message[\"Subject\"])[0][0]\n",
    "\n",
    "    print(\"Subject:\", subject)\n",
    "    print(\"From:\", message[\"From\"])\n",
    "    print(\"Date:\", message[\"Date\"])\n",
    "    print(\"Body:\", body)"
   ]
  },
  {
   "cell_type": "code",
   "execution_count": null,
   "metadata": {},
   "outputs": [
    {
     "name": "stdout",
     "output_type": "stream",
     "text": [
      "OK\n",
      "[('Devansh Rathor', 'devanshrathor123@gmail.com')]\n",
      "Thu, 12 Dec 2024 17:20:00 +0530\n",
      "1734004200.0\n",
      "[('<CAHZGE=4rPtoKRm28xPxGG3apE3nyCH6N9rkM+Ek8whEAEKBhhA@mail.gmail.com>', None)]\n"
     ]
    }
   ],
   "source": [
    "status, msg = imap.fetch(b'22', \"(RFC822 BODY[TEXT])\")\n",
    "message = email.message_from_bytes(msg[0][1])\n",
    "\n",
    "print(status)\n",
    "print(getaddresses(message.get_all(\"From\", [])))\n",
    "print(message[\"Date\"])\n",
    "print(parsedate_to_datetime(message[\"Date\"]).timestamp())\n",
    "print(decode_header(message[\"Message-ID\"]))"
   ]
  },
  {
   "cell_type": "code",
   "execution_count": 8,
   "metadata": {},
   "outputs": [],
   "source": [
    "def fetch_emails(user_email, password):\n",
    "    imap = imaplib.IMAP4_SSL(\"imap.gmail.com\")\n",
    "    imap.login(user_email, password)\n",
    "    imap.select('\"INBOX\"')\n",
    "    status, messages = imap.search(None, \"UNSEEN\")\n",
    "\n",
    "    emails = []\n",
    "\n",
    "    # iterate over the messages and retrieve their contents\n",
    "    for num in messages[0].split():\n",
    "        _, msg = imap.fetch(num, \"(RFC822)\")\n",
    "        message = email.message_from_bytes(msg[0][1])\n",
    "\n",
    "        print(getaddresses(message.get_all(\"From\", [])))\n",
    "        # print the message details\n",
    "        emails.append(\n",
    "            {\n",
    "                \"timestamp\": parsedate_to_datetime(message[\"Date\"]),\n",
    "                \"index\": int(num),\n",
    "                \"sender\": getaddresses(message.get_all(\"From\", [])),\n",
    "                \"subject\": decode_header(message[\"Subject\"])[0][0],\n",
    "            }\n",
    "        )\n",
    "    imap.close()\n",
    "    return emails"
   ]
  },
  {
   "cell_type": "code",
   "execution_count": 9,
   "metadata": {},
   "outputs": [
    {
     "data": {
      "text/plain": [
       "[]"
      ]
     },
     "execution_count": 9,
     "metadata": {},
     "output_type": "execute_result"
    }
   ],
   "source": [
    "# login with your Gmail account credentials\n",
    "user_email = os.environ.get(\"IMAP_EMAIL\")\n",
    "password = os.environ.get(\"IMAP_PASSWORD\")\n",
    "fetch_emails(user_email, password)"
   ]
  }
 ],
 "metadata": {
  "kernelspec": {
   "display_name": "venv",
   "language": "python",
   "name": "python3"
  },
  "language_info": {
   "codemirror_mode": {
    "name": "ipython",
    "version": 3
   },
   "file_extension": ".py",
   "mimetype": "text/x-python",
   "name": "python",
   "nbconvert_exporter": "python",
   "pygments_lexer": "ipython3",
   "version": "3.12.8"
  }
 },
 "nbformat": 4,
 "nbformat_minor": 2
}
